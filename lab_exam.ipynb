{
  "nbformat": 4,
  "nbformat_minor": 0,
  "metadata": {
    "colab": {
      "provenance": [],
      "include_colab_link": true
    },
    "kernelspec": {
      "name": "python3",
      "display_name": "Python 3"
    },
    "language_info": {
      "name": "python"
    }
  },
  "cells": [
    {
      "cell_type": "markdown",
      "metadata": {
        "id": "view-in-github",
        "colab_type": "text"
      },
      "source": [
        "<a href=\"https://colab.research.google.com/github/2303A51758/AIML-2025/blob/main/lab_exam.ipynb\" target=\"_parent\"><img src=\"https://colab.research.google.com/assets/colab-badge.svg\" alt=\"Open In Colab\"/></a>"
      ]
    },
    {
      "cell_type": "code",
      "execution_count": null,
      "metadata": {
        "id": "FGAg8I_i7MWJ"
      },
      "outputs": [],
      "source": [
        "prediction of guitar chords and finger positions in song composition\n",
        " 1.identify the top 5 chords most played.\n",
        " 2.predict the finger positions used most in chords\n",
        " 3.top 5 string movements for song composition.\n",
        " 4.name the chord condition most suitable for middle and pinkie\n",
        " 5.identify the chord with combination of middle,index and ring fingers."
      ]
    },
    {
      "cell_type": "code",
      "source": [
        "# Define chords and their properties\n",
        "chords = {\n",
        "    \"C_major\": {\n",
        "        \"fingers\": {\"index\": [2, 1], \"middle\": [4, 2], \"ring\": [5, 3]},\n",
        "        \"strings\": [1, 2, 3, 4, 5, 6],\n",
        "    },\n",
        "        \"G_major\": {\n",
        "            \"fingers\": {\"index\": [5, 2], \"middle\": [6, 3], \"ring\": [1, 3]},\n",
        "            \"strings\": [1, 2, 3, 4, 5, 6],\n",
        "        },\n",
        "            \"D_major\": {\n",
        "                  \"fingers\": {\"index\": [3, 2], \"middle\": [1, 2], \"ring\": [2, 3]},\n",
        "                  \"strings\": [1, 2, 3, 4, 5],\n",
        "            },\n",
        "               \"A_minor\": {\n",
        "                    \"fingers\": {\"index\": [2, 1], \"middle\": [4, 2], \"ring\": [3, 2]},\n",
        "                    \"strings\": [1, 2, 3, 4, 5, 6],\n",
        "                                    },\n",
        "                \"E_minor\": {\n",
        "                      \"fingers\": {\"middle\": [5, 2], \"ring\": [4, 2]},\n",
        "                       \"strings\": [1, 2, 3, 4, 5, 6],\n",
        "                                                            },\n",
        "                  \"D7\": {\n",
        "                        \"fingers\": {\"index\": [2, 1], \"middle\": [2, 2], \"ring\": [1, 2], \"pinkie\": [1, 3]},\n",
        "                        \"strings\": [1, 2, 3, 4],\n",
        "\n",
        "\n",
        "\n",
        "\n",
        "                                                                                    },\n",
        "                                                                                    }"
      ],
      "metadata": {
        "id": "LsJ3BlYW-dAv"
      },
      "execution_count": null,
      "outputs": []
    },
    {
      "cell_type": "code",
      "source": [
        "# 1. Identify the top 5 chords most played\n",
        "def top_chords(chords_dict):\n",
        "    return list(chords_dict.keys())[:5]\n"
      ],
      "metadata": {
        "id": "ktLnQoU6AeJa"
      },
      "execution_count": null,
      "outputs": []
    },
    {
      "cell_type": "code",
      "source": [
        "# 2. Predict the finger positions used most in chords\n",
        "def most_common_finger_positions(chords_dict):\n",
        "    finger_usage = {}\n",
        "    for chord, data in chords_dict.items():\n",
        "                for finger, positions in data[\"fingers\"].items():\n",
        "                    if finger not in finger_usage:\n",
        "                         finger_usage[finger] = 0\n",
        "                    finger_usage[finger] += len(positions)\n",
        "    return sorted(finger_usage.items(), key=lambda x: x[1], reverse=True)"
      ],
      "metadata": {
        "id": "O8D9q1TvAkp7"
      },
      "execution_count": null,
      "outputs": []
    },
    {
      "cell_type": "code",
      "source": [
        "# 3. Top 5 string movements for song composition\n",
        "def common_string_movements():\n",
        "    return [\n",
        "         {\"from\": 6, \"to\": 5},\n",
        "         {\"from\": 5, \"to\": 4},\n",
        "         {\"from\": 4, \"to\": 3},\n",
        "         {\"from\": 3, \"to\": 2},\n",
        "         {\"from\": 2, \"to\": 1},\n",
        "\n",
        "                                                ]\n"
      ],
      "metadata": {
        "id": "Tczlxc74A2eT"
      },
      "execution_count": null,
      "outputs": []
    },
    {
      "cell_type": "code",
      "source": [
        " #4. Name the chord condition most suitable for middle and pinkie\n",
        " def chords_for_middle_and_pinkie(chords_dict):\n",
        "     result = {}\n",
        "     for chord, data in chords_dict.items():\n",
        "             if \"middle\" in data[\"fingers\"] and \"pinkie\" in data[\"fingers\"]:\n",
        "                 result[chord] = data[\"fingers\"]\n",
        "     return result"
      ],
      "metadata": {
        "id": "SjSI6KwHB59O"
      },
      "execution_count": null,
      "outputs": []
    },
    {
      "cell_type": "code",
      "source": [
        "# 5. Identify the chord with a combination of middle, index, and ring fingers\n",
        "def chords_with_middle_index_ring(chords_dict):\n",
        "    result = {}\n",
        "    for chord, data in chords_dict.items():\n",
        "        if {\"middle\", \"index\", \"ring\"}.issubset(data[\"fingers\"].keys()):\n",
        "           result[chord] = data[\"fingers\"]\n",
        "    return result"
      ],
      "metadata": {
        "id": "EGGXT7nhB-0H"
      },
      "execution_count": null,
      "outputs": []
    },
    {
      "cell_type": "code",
      "source": [
        "# Main execution\n",
        "if __name__ == \"__main__\":\n",
        "    print(\"1. Top 5 Chords Most Played:\")\n",
        "    print(top_chords(chords))\n",
        "\n",
        "    print(\"\\n2. Predict Finger Positions Used Most in Chords:\")\n",
        "    print(most_common_finger_positions(chords))\n",
        "\n",
        "    print(\"\\n3. Top 5 String Movements for Song Composition:\")\n",
        "    print(common_string_movements())\n",
        "\n",
        "    print(\"\\n4. Chord Conditions Most Suitable for Middle and Pinkie:\")\n",
        "    print(chords_for_middle_and_pinkie(chords))\n",
        "\n",
        "    print(\"\\n5. Chords with Combination of Middle, Index, and Ring Fingers:\")\n",
        "    print(chords_with_middle_index_ring(chords))"
      ],
      "metadata": {
        "colab": {
          "base_uri": "https://localhost:8080/"
        },
        "id": "Qsu8G94yC02Y",
        "outputId": "1ad43ae3-4ec6-486d-8124-bbee684a46a4"
      },
      "execution_count": null,
      "outputs": [
        {
          "output_type": "stream",
          "name": "stdout",
          "text": [
            "1. Top 5 Chords Most Played:\n",
            "['C_major', 'G_major', 'D_major', 'A_minor', 'E_minor']\n",
            "\n",
            "2. Predict Finger Positions Used Most in Chords:\n",
            "[('middle', 12), ('ring', 12), ('index', 10), ('pinkie', 2)]\n",
            "\n",
            "3. Top 5 String Movements for Song Composition:\n",
            "[{'from': 6, 'to': 5}, {'from': 5, 'to': 4}, {'from': 4, 'to': 3}, {'from': 3, 'to': 2}, {'from': 2, 'to': 1}]\n",
            "\n",
            "4. Chord Conditions Most Suitable for Middle and Pinkie:\n",
            "{'D7': {'index': [2, 1], 'middle': [2, 2], 'ring': [1, 2], 'pinkie': [1, 3]}}\n",
            "\n",
            "5. Chords with Combination of Middle, Index, and Ring Fingers:\n",
            "{'C_major': {'index': [2, 1], 'middle': [4, 2], 'ring': [5, 3]}, 'G_major': {'index': [5, 2], 'middle': [6, 3], 'ring': [1, 3]}, 'D_major': {'index': [3, 2], 'middle': [1, 2], 'ring': [2, 3]}, 'A_minor': {'index': [2, 1], 'middle': [4, 2], 'ring': [3, 2]}, 'D7': {'index': [2, 1], 'middle': [2, 2], 'ring': [1, 2], 'pinkie': [1, 3]}}\n"
          ]
        }
      ]
    }
  ]
}