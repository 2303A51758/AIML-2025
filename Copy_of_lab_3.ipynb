{
  "nbformat": 4,
  "nbformat_minor": 0,
  "metadata": {
    "colab": {
      "provenance": [],
      "authorship_tag": "ABX9TyPEDFKEwvGchbhdROCwLL8K",
      "include_colab_link": true
    },
    "kernelspec": {
      "name": "python3",
      "display_name": "Python 3"
    },
    "language_info": {
      "name": "python"
    }
  },
  "cells": [
    {
      "cell_type": "markdown",
      "metadata": {
        "id": "view-in-github",
        "colab_type": "text"
      },
      "source": [
        "<a href=\"https://colab.research.google.com/github/2303A51758/AIML-2025/blob/main/Copy_of_lab_3.ipynb\" target=\"_parent\"><img src=\"https://colab.research.google.com/assets/colab-badge.svg\" alt=\"Open In Colab\"/></a>"
      ]
    },
    {
      "cell_type": "markdown",
      "source": [
        "PART-1\n"
      ],
      "metadata": {
        "id": "TEWFxUNCT6j8"
      }
    },
    {
      "cell_type": "code",
      "source": [
        "from collections import namedtuple, Counter, defaultdict\n",
        "import random\n",
        "import math\n",
        "import functools\n",
        "cache = functools.lru_cache(10**6)"
      ],
      "metadata": {
        "id": "o40NFowFhSrg"
      },
      "execution_count": 3,
      "outputs": []
    },
    {
      "cell_type": "code",
      "source": [
        "class Game:\n",
        "      \"\"\"A game is similar to a problem, but it has a terminal test instead of\n",
        "      a goal test, and a utility for each terminal state. To create a game,\n",
        "      subclass this class and implement `actions`, `result`, `is_terminal`,\n",
        "      and `utility`. You will also need to set the .initial attribute to the\n",
        "      initial state; this can be done in the constructor.\"\"\"\n",
        "\n",
        "      def actions(self, state):\n",
        "          \"\"\"Return a collection of the allowable moves from this state.\"\"\"\n",
        "          raise NotImplementedError\n",
        "\n",
        "      def result(self, state, move):\n",
        "          \"\"\"Return the state that results from making a move from a state.\"\"\"\n",
        "          raise NotImplementedError\n",
        "\n",
        "      def is_terminal(self, state):\n",
        "          \"\"\"Return True if this is a final state for the game.\"\"\"\n",
        "          return not self.actions(state)\n",
        "\n",
        "      def utility(self, state, player):\n",
        "          \"\"\"Return the value of this final state to player.\"\"\"\n",
        "          raise NotImplementedError"
      ],
      "metadata": {
        "id": "Eoh4J__2SIvK"
      },
      "execution_count": 4,
      "outputs": []
    },
    {
      "cell_type": "code",
      "source": [
        "def play_game(game, strategies: dict, verbose=False):\n",
        "    \"\"\"Play a turn-taking game. `strategies` is a {player_name: function} dict,\n",
        "    where function(state, game) is used to get the player's move.\"\"\"\n",
        "    state = game.initial\n",
        "    while not game.is_terminal(state):\n",
        "        player = state.to_move\n",
        "        move = strategies[player](game, state)\n",
        "        state = game.result(state, move)\n",
        "        if verbose:\n",
        "            print('Player', player, 'move:', move)\n",
        "            print(state)\n",
        "    return state\n"
      ],
      "metadata": {
        "id": "_h4fVrepTbFx"
      },
      "execution_count": 7,
      "outputs": []
    },
    {
      "cell_type": "markdown",
      "source": [
        "PART-2"
      ],
      "metadata": {
        "id": "mIKhAL-hTosJ"
      }
    },
    {
      "cell_type": "code",
      "source": [
        "def minimax_search(game, state):\n",
        "    \"\"\"Search game tree to determine best move; return (value, move) pair.\"\"\"\n",
        "\n",
        "    player = state.to_move\n",
        "\n",
        "    def max_value(state):\n",
        "        if game.is_terminal(state):\n",
        "            return game.utility(state, player), None\n",
        "        v, move = -infinity, None\n",
        "        for a in game.actions(state):\n",
        "            v2, _ = min_value(game.result(state, a))\n",
        "            if v2 > v:\n",
        "                v, move = v2, a\n",
        "        return v, move\n",
        "\n",
        "    def min_value(state):\n",
        "         if game.is_terminal(state):\n",
        "             return game.utility(state, player), None\n",
        "         v, move = +infinity, None\n",
        "         for a in game.actions(state):\n",
        "             v2, _ = max_value(game.result(state, a))\n",
        "             if v2 < v:\n",
        "                 v, move = v2, a\n",
        "         return v, move\n",
        "\n",
        "    return max_value(state)\n",
        "\n",
        "infinity = math.inf\n",
        "\n",
        "                                                                                                                                                                                              return v, move\n",
        "\n",
        "                                                                                                                                                                                              return max_value(state)\n",
        "\n",
        "                                                                                                                                                                                              infinity = math.inf"
      ],
      "metadata": {
        "colab": {
          "base_uri": "https://localhost:8080/",
          "height": 106
        },
        "id": "Nf6nexykT0zg",
        "outputId": "d7e7bf62-305e-43e1-c163-9d495b023a41"
      },
      "execution_count": 35,
      "outputs": [
        {
          "output_type": "error",
          "ename": "IndentationError",
          "evalue": "unexpected indent (<ipython-input-35-ec2058f81e9a>, line 30)",
          "traceback": [
            "\u001b[0;36m  File \u001b[0;32m\"<ipython-input-35-ec2058f81e9a>\"\u001b[0;36m, line \u001b[0;32m30\u001b[0m\n\u001b[0;31m    return v, move\u001b[0m\n\u001b[0m    ^\u001b[0m\n\u001b[0;31mIndentationError\u001b[0m\u001b[0;31m:\u001b[0m unexpected indent\n"
          ]
        }
      ]
    },
    {
      "cell_type": "code",
      "source": [
        "def alphabeta_search(game, state):\n",
        "    \"\"\"Search game to determine best action; use alpha-beta pruning.\n",
        "    \"\"Search all the way to the leaves.\"\"\"\n",
        "\n",
        "    player = state.to_move\n",
        "\n",
        "    def max_value(state, alpha, beta):\n",
        "        if game.is_terminal(state):\n",
        "            return game.utility(state, player), None\n",
        "        v, move = -infinity, None\n",
        "        for a in game.actions(state):\n",
        "            v2, _ = min_value(game.result(state, a), alpha, beta)\n",
        "            if v2 > v:\n",
        "               v, move = v2, a\n",
        "               alpha = max(alpha, v)\n",
        "            if v >= beta:\n",
        "        return v, move\n",
        "\n",
        "\n",
        "    def min_value(state, alpha, beta):\n",
        "        if game.is_terminal(state):\n",
        "             return game.utility(state, player), None\n",
        "        v, move = +infinity, None\n",
        "                                                                                               for a in game.actions(state):\n",
        "                                                                                                v2, _ = max_value(game.result(state, a), alpha, beta)\n",
        "                                                                                                    if v2 < v:\n",
        "                                                                                                                                   v, move = v2, a\n",
        "                                                                                                                              beta = min(beta, v)\n",
        "                                                                                                                           if v <= alpha:\n",
        "                                                                                                                              return v, move\n",
        "                                                                                                                               return v, move\n",
        "\n",
        "                                                                                                                             return max_value(state, -infinity, +infinity)\n"
      ],
      "metadata": {
        "id": "-5udMN65ZCaf"
      },
      "execution_count": null,
      "outputs": []
    },
    {
      "cell_type": "code",
      "source": [],
      "metadata": {
        "id": "dp2BfPynXoks"
      },
      "execution_count": null,
      "outputs": []
    }
  ]
}