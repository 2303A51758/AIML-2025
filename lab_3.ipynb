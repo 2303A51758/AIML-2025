{
  "nbformat": 4,
  "nbformat_minor": 0,
  "metadata": {
    "colab": {
      "provenance": [],
      "authorship_tag": "ABX9TyODrEapaurNHpUt2WT8uIGn",
      "include_colab_link": true
    },
    "kernelspec": {
      "name": "python3",
      "display_name": "Python 3"
    },
    "language_info": {
      "name": "python"
    }
  },
  "cells": [
    {
      "cell_type": "markdown",
      "metadata": {
        "id": "view-in-github",
        "colab_type": "text"
      },
      "source": [
        "<a href=\"https://colab.research.google.com/github/2303A51758/AIML-2025/blob/main/lab_3.ipynb\" target=\"_parent\"><img src=\"https://colab.research.google.com/assets/colab-badge.svg\" alt=\"Open In Colab\"/></a>"
      ]
    },
    {
      "cell_type": "code",
      "source": [
        "from collections import namedtuple, Counter, defaultdict\n",
        "import random\n",
        "import math\n",
        "import functools\n",
        "cache = functools.lru_cache(10**6)"
      ],
      "metadata": {
        "id": "o40NFowFhSrg"
      },
      "execution_count": 11,
      "outputs": []
    },
    {
      "cell_type": "code",
      "source": [],
      "metadata": {
        "id": "O2ZSXE6Flt87"
      },
      "execution_count": null,
      "outputs": []
    },
    {
      "cell_type": "code",
      "source": [
        "class Game:\n",
        "      \"\"\"A game is similar to a problem, but it has a terminal test instead of\n",
        "          a goal test, and a utility for each terminal state. To create a game,\n",
        "              subclass this class and implement `actions`, `result`, `is_terminal`,\n",
        "                  and `utility`. You will also need to set the .initial attribute to the\n",
        "                      initial state; this can be done in the constructor.\"\"\"\n",
        "\n",
        "                          def actions(self, state):\n",
        "                                  \"\"\"Return a collection of the allowable moves from this state.\"\"\"\n",
        "                                          raise NotImplementedError\n",
        "\n",
        "                                              def result(self, state, move):\n",
        "                                                      \"\"\"Return the state that results from making a move from a state.\"\"\"\n",
        "                                                              raise NotImplementedError\n",
        "\n",
        "                                                                  def is_terminal(self, state):\n",
        "                                                                          \"\"\"Return True if this is a final state for the game.\"\"\"\n",
        "                                                                                  return not self.actions(state)\n",
        "\n",
        "                                                                                      def utility(self, state, player):\n",
        "                                                                                              \"\"\"Return the value of this final state to player.\"\"\"\n",
        "                                                                                                      raise NotImplementedError"
      ],
      "metadata": {
        "colab": {
          "base_uri": "https://localhost:8080/",
          "height": 106
        },
        "id": "RQBeQuB_ko7d",
        "outputId": "294826d4-7c4e-4257-914b-4bf8c17442a0"
      },
      "execution_count": 13,
      "outputs": [
        {
          "output_type": "error",
          "ename": "IndentationError",
          "evalue": "unexpected indent (<ipython-input-13-a9aff07df09e>, line 8)",
          "traceback": [
            "\u001b[0;36m  File \u001b[0;32m\"<ipython-input-13-a9aff07df09e>\"\u001b[0;36m, line \u001b[0;32m8\u001b[0m\n\u001b[0;31m    def actions(self, state):\u001b[0m\n\u001b[0m    ^\u001b[0m\n\u001b[0;31mIndentationError\u001b[0m\u001b[0;31m:\u001b[0m unexpected indent\n"
          ]
        }
      ]
    }
  ]
}