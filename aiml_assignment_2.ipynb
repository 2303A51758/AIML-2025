{
  "nbformat": 4,
  "nbformat_minor": 0,
  "metadata": {
    "colab": {
      "provenance": [],
      "authorship_tag": "ABX9TyNHbUE40ilSrqtkhN6Ec2HA",
      "include_colab_link": true
    },
    "kernelspec": {
      "name": "python3",
      "display_name": "Python 3"
    },
    "language_info": {
      "name": "python"
    }
  },
  "cells": [
    {
      "cell_type": "markdown",
      "metadata": {
        "id": "view-in-github",
        "colab_type": "text"
      },
      "source": [
        "<a href=\"https://colab.research.google.com/github/2303A51758/AIML-2025/blob/main/aiml_assignment_2.ipynb\" target=\"_parent\"><img src=\"https://colab.research.google.com/assets/colab-badge.svg\" alt=\"Open In Colab\"/></a>"
      ]
    },
    {
      "cell_type": "code",
      "execution_count": 24,
      "metadata": {
        "colab": {
          "base_uri": "https://localhost:8080/"
        },
        "id": "0nHX4gv-SGPZ",
        "outputId": "84bfb02d-9714-4f16-cb0f-9f1377c48ba8"
      },
      "outputs": [
        {
          "output_type": "stream",
          "name": "stdout",
          "text": [
            "The adjacency list of the graph is:\n",
            "graph\n"
          ]
        }
      ],
      "source": [
        "from queue import Queue\n",
        "graph={0:[1,3],\n",
        "       1:{0,2,3},\n",
        "       2:{1,4,5},\n",
        "       3:{0,1,4},\n",
        "       4:{2,3,5},\n",
        "       5:{4,2}}\n",
        "print(\"The adjacency list of the graph is:\")\n",
        "print(\"graph\")\n",
        "def bfs(graphs,source):\n",
        "        q=queue()\n",
        "        visited_vertices=set()\n",
        "        o.put(source)\n",
        "        visited_vertices.update({source})\n",
        "        while not q.empty():\n",
        "          vertex=q.get()\n",
        "        print(vertex,ends=\" -->\")\n",
        "        for u in graph[vertex]:\n",
        "          if u not in visited_vertices:\n",
        "            q.put(u)\n",
        "            visited_vertices.update({u})\n",
        "            print(\"the BFS traversal of the graph with source 1 is:\")\n",
        "            bfs(graph,1)\n",
        "\n"
      ]
    }
  ]
}