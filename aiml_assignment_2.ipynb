{
  "nbformat": 4,
  "nbformat_minor": 0,
  "metadata": {
    "colab": {
      "provenance": [],
      "authorship_tag": "ABX9TyPTsHev35uOEIqbX2xcgS8V",
      "include_colab_link": true
    },
    "kernelspec": {
      "name": "python3",
      "display_name": "Python 3"
    },
    "language_info": {
      "name": "python"
    }
  },
  "cells": [
    {
      "cell_type": "markdown",
      "metadata": {
        "id": "view-in-github",
        "colab_type": "text"
      },
      "source": [
        "<a href=\"https://colab.research.google.com/github/2303A51758/AIML-2025/blob/main/aiml_assignment_2.ipynb\" target=\"_parent\"><img src=\"https://colab.research.google.com/assets/colab-badge.svg\" alt=\"Open In Colab\"/></a>"
      ]
    },
    {
      "cell_type": "code",
      "execution_count": null,
      "metadata": {
        "id": "0nHX4gv-SGPZ"
      },
      "outputs": [],
      "source": [
        "from queue import queue\n",
        "graph={0:[1,3],\n",
        "1:{1,3},\n",
        "2:{0,2,3}\n",
        "3:{0,1,4},\n",
        "4:{2,3,5},\n",
        "5:{4,2},\n",
        "       print(\"the adjacency list of the graph is:\")\n",
        "       print(\"graph\")\n",
        "       def bfs(graphs,source):\n",
        "        q=queue()\n",
        "        visited_vertices=set()\n",
        "        o.put(source)\n",
        "        visited_vertices.update({source})\n",
        "        while not q.empty();\n",
        "       vertex=q.get()\n",
        "       print(vertex,ends=\" -->\")\n",
        "       for u in graph[vertex]:\n",
        "       if u not in visited vertices:\n",
        "       q.put(u)\n",
        "       visited vertices.update({u})\n",
        "       print(\"the BFS traversal of the graph with source 1 is:\")\n",
        "       bfs(graph,1)\n",
        "\n"
      ]
    }
  ]
}